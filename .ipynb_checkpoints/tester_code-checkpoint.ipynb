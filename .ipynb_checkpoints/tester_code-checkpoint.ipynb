{
 "cells": [
  {
   "cell_type": "code",
   "execution_count": 52,
   "id": "709c0caa-ed0d-4ef0-b50d-1a75366eb8da",
   "metadata": {
    "tags": []
   },
   "outputs": [
    {
     "name": "stdout",
     "output_type": "stream",
     "text": [
      "22\n",
      "32\n",
      "36\n",
      "26\n",
      "120\n"
     ]
    }
   ],
   "source": [
    "#rgundavarapu@wisc.edu\n",
    "import sys\n",
    "import grpc\n",
    "import numstore_pb2, numstore_pb2_grpc\n",
    "\n",
    "port = \"5440\"\n",
    "addr = f\"127.0.0.1:{port}\"\n",
    "channel = grpc.insecure_channel(addr)\n",
    "stub = numstore_pb2_grpc.NumStoreStub(channel)\n",
    "\n",
    "# TEST SetNum\n",
    "resp = stub.SetNum(numstore_pb2.SetNumRequest(key=\"A\", value=1))\n",
    "print(resp.total) # should be 1\n",
    "resp = stub.SetNum(numstore_pb2.SetNumRequest(key=\"B\", value=10))\n",
    "print(resp.total) # should be 11\n",
    "resp = stub.SetNum(numstore_pb2.SetNumRequest(key=\"A\", value=5))\n",
    "print(resp.total) # should be 15\n",
    "resp = stub.SetNum(numstore_pb2.SetNumRequest(key=\"B\", value=0))\n",
    "print(resp.total) # should be 5\n",
    "\n",
    "# TEST Fact\n",
    "resp = stub.Fact(numstore_pb2.FactRequest(key=\"A\"))\n",
    "print(resp.value) # should be 120"
   ]
  },
  {
   "cell_type": "code",
   "execution_count": 53,
   "id": "546bab7c-c355-453f-9c72-d2e20909b55f",
   "metadata": {
    "tags": []
   },
   "outputs": [
    {
     "name": "stdout",
     "output_type": "stream",
     "text": [
      "['DESCRIPTOR', 'FactRequest', 'FactResponse', 'SetNumRequest', 'SetNumResponse', '_FACTREQUEST', '_FACTRESPONSE', '_NUMSTORE', '_SETNUMREQUEST', '_SETNUMRESPONSE', '__builtins__', '__cached__', '__doc__', '__file__', '__loader__', '__name__', '__package__', '__spec__', '_builder', '_descriptor', '_descriptor_pool', '_sym_db', '_symbol_database']\n"
     ]
    }
   ],
   "source": [
    " print(dir(numstore_pb2))"
   ]
  },
  {
   "cell_type": "code",
   "execution_count": 54,
   "id": "ed96314f-dc7a-442a-86f9-ecb65537a7df",
   "metadata": {
    "tags": []
   },
   "outputs": [
    {
     "name": "stdout",
     "output_type": "stream",
     "text": [
      "22\n",
      "32\n",
      "36\n",
      "26\n"
     ]
    }
   ],
   "source": [
    "# TEST SetNum\n",
    "resp = stub.SetNum(numstore_pb2.SetNumRequest(key=\"A\", value=1))\n",
    "print(resp.total) # should be 1\n",
    "resp = stub.SetNum(numstore_pb2.SetNumRequest(key=\"B\", value=10))\n",
    "print(resp.total) # should be 11\n",
    "resp = stub.SetNum(numstore_pb2.SetNumRequest(key=\"A\", value=5))\n",
    "print(resp.total) # should be 15\n",
    "resp = stub.SetNum(numstore_pb2.SetNumRequest(key=\"B\", value=0))\n",
    "print(resp.total) # should be 5\n",
    "resp = stub.SetNum(numstore_pb2.SetNumRequest(key=\"C\", value=4))"
   ]
  },
  {
   "cell_type": "code",
   "execution_count": 55,
   "id": "14160235-c83d-4103-9b46-9f638acd4de4",
   "metadata": {},
   "outputs": [
    {
     "name": "stdout",
     "output_type": "stream",
     "text": [
      "120\n"
     ]
    }
   ],
   "source": [
    "# TEST Fact\n",
    "resp = stub.Fact(numstore_pb2.FactRequest(key=\"A\"))\n",
    "print(resp.value) # should be 120"
   ]
  },
  {
   "cell_type": "code",
   "execution_count": 56,
   "id": "0ca58e1f-3738-4565-ac55-99366e7a1c5c",
   "metadata": {
    "tags": []
   },
   "outputs": [
    {
     "name": "stdout",
     "output_type": "stream",
     "text": [
      "120\n"
     ]
    }
   ],
   "source": [
    "resp = stub.Fact(numstore_pb2.FactRequest(key=\"A\"))\n",
    "print(resp.value)"
   ]
  },
  {
   "cell_type": "code",
   "execution_count": 57,
   "id": "8bfaf71a-4aa3-454f-9ef0-a2b79bfa9925",
   "metadata": {
    "tags": []
   },
   "outputs": [
    {
     "name": "stdout",
     "output_type": "stream",
     "text": [
      "1\n"
     ]
    }
   ],
   "source": [
    "resp = stub.Fact(numstore_pb2.FactRequest(key=\"B\"))\n",
    "print(resp.value)"
   ]
  },
  {
   "cell_type": "code",
   "execution_count": 58,
   "id": "abe409aa-e23f-4c9f-b415-173ec2949961",
   "metadata": {
    "tags": []
   },
   "outputs": [
    {
     "data": {
      "text/plain": [
       "'key does not exist,please add it using setnum'"
      ]
     },
     "execution_count": 58,
     "metadata": {},
     "output_type": "execute_result"
    }
   ],
   "source": [
    "resp = stub.Fact(numstore_pb2.FactRequest(key=\"D\"))\n",
    "resp.error"
   ]
  },
  {
   "cell_type": "code",
   "execution_count": 59,
   "id": "610afdda-c6b3-4668-9a13-5ce7fcb5deae",
   "metadata": {
    "tags": []
   },
   "outputs": [
    {
     "name": "stdout",
     "output_type": "stream",
     "text": [
      "24\n"
     ]
    }
   ],
   "source": [
    "resp = stub.Fact(numstore_pb2.FactRequest(key=\"C\"))\n",
    "print(resp.value)"
   ]
  },
  {
   "cell_type": "code",
   "execution_count": 60,
   "id": "d35ec396-89a8-46b7-811b-29d4b4d731bc",
   "metadata": {
    "tags": []
   },
   "outputs": [
    {
     "name": "stdout",
     "output_type": "stream",
     "text": [
      "120\n"
     ]
    }
   ],
   "source": [
    "resp = stub.Fact(numstore_pb2.FactRequest(key=\"A\"))\n",
    "print(resp.value)"
   ]
  },
  {
   "cell_type": "code",
   "execution_count": 61,
   "id": "9f23f6aa-4f40-4fdb-8253-82c1dcd2310a",
   "metadata": {
    "tags": []
   },
   "outputs": [
    {
     "data": {
      "text/plain": [
       "26"
      ]
     },
     "execution_count": 61,
     "metadata": {},
     "output_type": "execute_result"
    }
   ],
   "source": [
    "resp = stub.SetNum(numstore_pb2.SetNumRequest(key=\"F\", value=2))\n",
    "resp = stub.SetNum(numstore_pb2.SetNumRequest(key=\"I\", value=4))\n",
    "resp = stub.SetNum(numstore_pb2.SetNumRequest(key=\"K\", value=6))\n",
    "resp = stub.SetNum(numstore_pb2.SetNumRequest(key=\"M\", value=2))\n",
    "resp = stub.SetNum(numstore_pb2.SetNumRequest(key=\"E\", value=3))\n",
    "resp.total"
   ]
  },
  {
   "cell_type": "code",
   "execution_count": null,
   "id": "5812a3db-c6b4-40a2-8b5c-cda49c2f95e8",
   "metadata": {},
   "outputs": [],
   "source": []
  }
 ],
 "metadata": {
  "kernelspec": {
   "display_name": "Python 3 (ipykernel)",
   "language": "python",
   "name": "python3"
  },
  "language_info": {
   "codemirror_mode": {
    "name": "ipython",
    "version": 3
   },
   "file_extension": ".py",
   "mimetype": "text/x-python",
   "name": "python",
   "nbconvert_exporter": "python",
   "pygments_lexer": "ipython3",
   "version": "3.10.6"
  }
 },
 "nbformat": 4,
 "nbformat_minor": 5
}
