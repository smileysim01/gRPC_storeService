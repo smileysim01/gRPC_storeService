{
 "cells": [
  {
   "cell_type": "code",
   "execution_count": 76,
   "id": "709c0caa-ed0d-4ef0-b50d-1a75366eb8da",
   "metadata": {
    "tags": []
   },
   "outputs": [],
   "source": [
    "import sys\n",
    "import grpc\n",
    "import numstore_pb2, numstore_pb2_grpc\n",
    "\n",
    "port = \"5440\"\n",
    "addr = f\"127.0.0.1:{port}\"\n",
    "channel = grpc.insecure_channel(addr)\n",
    "stub = numstore_pb2_grpc.NumStoreStub(channel)"
   ]
  },
  {
   "cell_type": "code",
   "execution_count": 77,
   "id": "546bab7c-c355-453f-9c72-d2e20909b55f",
   "metadata": {
    "tags": []
   },
   "outputs": [
    {
     "name": "stdout",
     "output_type": "stream",
     "text": [
      "['DESCRIPTOR', 'FactRequest', 'FactResponse', 'SetNumRequest', 'SetNumResponse', '_FACTREQUEST', '_FACTRESPONSE', '_NUMSTORE', '_SETNUMREQUEST', '_SETNUMRESPONSE', '__builtins__', '__cached__', '__doc__', '__file__', '__loader__', '__name__', '__package__', '__spec__', '_builder', '_descriptor', '_descriptor_pool', '_sym_db', '_symbol_database']\n"
     ]
    }
   ],
   "source": [
    " print(dir(numstore_pb2))"
   ]
  },
  {
   "cell_type": "code",
   "execution_count": 78,
   "id": "ed96314f-dc7a-442a-86f9-ecb65537a7df",
   "metadata": {
    "tags": []
   },
   "outputs": [
    {
     "name": "stdout",
     "output_type": "stream",
     "text": [
      "1\n",
      "11\n",
      "15\n",
      "5\n"
     ]
    }
   ],
   "source": [
    "# TEST SetNum\n",
    "resp = stub.SetNum(numstore_pb2.SetNumRequest(key=\"A\", value=1))\n",
    "print(resp.total) # should be 1\n",
    "resp = stub.SetNum(numstore_pb2.SetNumRequest(key=\"B\", value=10))\n",
    "print(resp.total) # should be 11\n",
    "resp = stub.SetNum(numstore_pb2.SetNumRequest(key=\"A\", value=5))\n",
    "print(resp.total) # should be 15\n",
    "resp = stub.SetNum(numstore_pb2.SetNumRequest(key=\"B\", value=0))\n",
    "print(resp.total) # should be 5"
   ]
  },
  {
   "cell_type": "code",
   "execution_count": 79,
   "id": "14160235-c83d-4103-9b46-9f638acd4de4",
   "metadata": {},
   "outputs": [
    {
     "ename": "_InactiveRpcError",
     "evalue": "<_InactiveRpcError of RPC that terminated with:\n\tstatus = StatusCode.UNKNOWN\n\tdetails = \"Exception calling application: value\"\n\tdebug_error_string = \"UNKNOWN:Error received from peer ipv4:127.0.0.1:5440 {created_time:\"2023-03-01T01:14:10.393666441+00:00\", grpc_status:2, grpc_message:\"Exception calling application: value\"}\"\n>",
     "output_type": "error",
     "traceback": [
      "\u001b[0;31m---------------------------------------------------------------------------\u001b[0m",
      "\u001b[0;31m_InactiveRpcError\u001b[0m                         Traceback (most recent call last)",
      "Cell \u001b[0;32mIn[79], line 2\u001b[0m\n\u001b[1;32m      1\u001b[0m \u001b[38;5;66;03m# TEST Fact\u001b[39;00m\n\u001b[0;32m----> 2\u001b[0m resp \u001b[38;5;241m=\u001b[39m \u001b[43mstub\u001b[49m\u001b[38;5;241;43m.\u001b[39;49m\u001b[43mFact\u001b[49m\u001b[43m(\u001b[49m\u001b[43mnumstore_pb2\u001b[49m\u001b[38;5;241;43m.\u001b[39;49m\u001b[43mFactRequest\u001b[49m\u001b[43m(\u001b[49m\u001b[43mkey\u001b[49m\u001b[38;5;241;43m=\u001b[39;49m\u001b[38;5;124;43m\"\u001b[39;49m\u001b[38;5;124;43mA\u001b[39;49m\u001b[38;5;124;43m\"\u001b[39;49m\u001b[43m)\u001b[49m\u001b[43m)\u001b[49m\n\u001b[1;32m      3\u001b[0m \u001b[38;5;28mprint\u001b[39m(resp\u001b[38;5;241m.\u001b[39mvalue) \u001b[38;5;66;03m# should be 120\u001b[39;00m\n",
      "File \u001b[0;32m~/.local/lib/python3.10/site-packages/grpc/_channel.py:946\u001b[0m, in \u001b[0;36m_UnaryUnaryMultiCallable.__call__\u001b[0;34m(self, request, timeout, metadata, credentials, wait_for_ready, compression)\u001b[0m\n\u001b[1;32m    937\u001b[0m \u001b[38;5;28;01mdef\u001b[39;00m \u001b[38;5;21m__call__\u001b[39m(\u001b[38;5;28mself\u001b[39m,\n\u001b[1;32m    938\u001b[0m              request,\n\u001b[1;32m    939\u001b[0m              timeout\u001b[38;5;241m=\u001b[39m\u001b[38;5;28;01mNone\u001b[39;00m,\n\u001b[0;32m   (...)\u001b[0m\n\u001b[1;32m    942\u001b[0m              wait_for_ready\u001b[38;5;241m=\u001b[39m\u001b[38;5;28;01mNone\u001b[39;00m,\n\u001b[1;32m    943\u001b[0m              compression\u001b[38;5;241m=\u001b[39m\u001b[38;5;28;01mNone\u001b[39;00m):\n\u001b[1;32m    944\u001b[0m     state, call, \u001b[38;5;241m=\u001b[39m \u001b[38;5;28mself\u001b[39m\u001b[38;5;241m.\u001b[39m_blocking(request, timeout, metadata, credentials,\n\u001b[1;32m    945\u001b[0m                                   wait_for_ready, compression)\n\u001b[0;32m--> 946\u001b[0m     \u001b[38;5;28;01mreturn\u001b[39;00m \u001b[43m_end_unary_response_blocking\u001b[49m\u001b[43m(\u001b[49m\u001b[43mstate\u001b[49m\u001b[43m,\u001b[49m\u001b[43m \u001b[49m\u001b[43mcall\u001b[49m\u001b[43m,\u001b[49m\u001b[43m \u001b[49m\u001b[38;5;28;43;01mFalse\u001b[39;49;00m\u001b[43m,\u001b[49m\u001b[43m \u001b[49m\u001b[38;5;28;43;01mNone\u001b[39;49;00m\u001b[43m)\u001b[49m\n",
      "File \u001b[0;32m~/.local/lib/python3.10/site-packages/grpc/_channel.py:849\u001b[0m, in \u001b[0;36m_end_unary_response_blocking\u001b[0;34m(state, call, with_call, deadline)\u001b[0m\n\u001b[1;32m    847\u001b[0m         \u001b[38;5;28;01mreturn\u001b[39;00m state\u001b[38;5;241m.\u001b[39mresponse\n\u001b[1;32m    848\u001b[0m \u001b[38;5;28;01melse\u001b[39;00m:\n\u001b[0;32m--> 849\u001b[0m     \u001b[38;5;28;01mraise\u001b[39;00m _InactiveRpcError(state)\n",
      "\u001b[0;31m_InactiveRpcError\u001b[0m: <_InactiveRpcError of RPC that terminated with:\n\tstatus = StatusCode.UNKNOWN\n\tdetails = \"Exception calling application: value\"\n\tdebug_error_string = \"UNKNOWN:Error received from peer ipv4:127.0.0.1:5440 {created_time:\"2023-03-01T01:14:10.393666441+00:00\", grpc_status:2, grpc_message:\"Exception calling application: value\"}\"\n>"
     ]
    }
   ],
   "source": [
    "# TEST Fact\n",
    "resp = stub.Fact(numstore_pb2.FactRequest(key=\"A\"))\n",
    "print(resp.value) # should be 120"
   ]
  },
  {
   "cell_type": "code",
   "execution_count": null,
   "id": "a0700842-d899-4dc1-9d03-7c2cf58ca26f",
   "metadata": {},
   "outputs": [],
   "source": []
  }
 ],
 "metadata": {
  "kernelspec": {
   "display_name": "Python 3 (ipykernel)",
   "language": "python",
   "name": "python3"
  },
  "language_info": {
   "codemirror_mode": {
    "name": "ipython",
    "version": 3
   },
   "file_extension": ".py",
   "mimetype": "text/x-python",
   "name": "python",
   "nbconvert_exporter": "python",
   "pygments_lexer": "ipython3",
   "version": "3.10.6"
  }
 },
 "nbformat": 4,
 "nbformat_minor": 5
}
