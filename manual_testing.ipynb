{
 "cells": [
  {
   "cell_type": "code",
   "execution_count": 6,
   "id": "709c0caa-ed0d-4ef0-b50d-1a75366eb8da",
   "metadata": {
    "tags": []
   },
   "outputs": [
    {
     "name": "stdout",
     "output_type": "stream",
     "text": [
      "1\n",
      "11\n",
      "15\n",
      "5\n",
      "120\n"
     ]
    }
   ],
   "source": [
    "#rgundavarapu@wisc.edu\n",
    "import sys\n",
    "import grpc\n",
    "import numstore_pb2, numstore_pb2_grpc\n",
    "\n",
    "port = \"5440\"\n",
    "addr = f\"127.0.0.1:{port}\"\n",
    "channel = grpc.insecure_channel(addr)\n",
    "stub = numstore_pb2_grpc.NumStoreStub(channel)\n",
    "\n",
    "# TEST SetNum\n",
    "resp = stub.SetNum(numstore_pb2.SetNumRequest(key=\"A\", value=1))\n",
    "print(resp.total) # should be 1\n",
    "resp = stub.SetNum(numstore_pb2.SetNumRequest(key=\"B\", value=10))\n",
    "print(resp.total) # should be 11\n",
    "resp = stub.SetNum(numstore_pb2.SetNumRequest(key=\"A\", value=5))\n",
    "print(resp.total) # should be 15\n",
    "resp = stub.SetNum(numstore_pb2.SetNumRequest(key=\"B\", value=0))\n",
    "print(resp.total) # should be 5\n",
    "\n",
    "# TEST Fact\n",
    "resp = stub.Fact(numstore_pb2.FactRequest(key=\"A\"))\n",
    "print(resp.value) # should be 120"
   ]
  },
  {
   "cell_type": "code",
   "execution_count": 7,
   "id": "546bab7c-c355-453f-9c72-d2e20909b55f",
   "metadata": {
    "tags": []
   },
   "outputs": [
    {
     "name": "stdout",
     "output_type": "stream",
     "text": [
      "['DESCRIPTOR', 'FactRequest', 'FactResponse', 'SetNumRequest', 'SetNumResponse', '_FACTREQUEST', '_FACTRESPONSE', '_NUMSTORE', '_SETNUMREQUEST', '_SETNUMRESPONSE', '__builtins__', '__cached__', '__doc__', '__file__', '__loader__', '__name__', '__package__', '__spec__', '_builder', '_descriptor', '_descriptor_pool', '_sym_db', '_symbol_database']\n"
     ]
    }
   ],
   "source": [
    " print(dir(numstore_pb2))"
   ]
  },
  {
   "cell_type": "code",
   "execution_count": 8,
   "id": "ed96314f-dc7a-442a-86f9-ecb65537a7df",
   "metadata": {
    "tags": []
   },
   "outputs": [
    {
     "name": "stdout",
     "output_type": "stream",
     "text": [
      "1\n",
      "11\n",
      "15\n",
      "5\n"
     ]
    }
   ],
   "source": [
    "# TEST SetNum\n",
    "resp = stub.SetNum(numstore_pb2.SetNumRequest(key=\"A\", value=1))\n",
    "print(resp.total) # should be 1\n",
    "resp = stub.SetNum(numstore_pb2.SetNumRequest(key=\"B\", value=10))\n",
    "print(resp.total) # should be 11\n",
    "resp = stub.SetNum(numstore_pb2.SetNumRequest(key=\"A\", value=5))\n",
    "print(resp.total) # should be 15\n",
    "resp = stub.SetNum(numstore_pb2.SetNumRequest(key=\"B\", value=0))\n",
    "print(resp.total) # should be 5"
   ]
  },
  {
   "cell_type": "code",
   "execution_count": 9,
   "id": "14160235-c83d-4103-9b46-9f638acd4de4",
   "metadata": {},
   "outputs": [
    {
     "name": "stdout",
     "output_type": "stream",
     "text": [
      "120\n"
     ]
    }
   ],
   "source": [
    "# TEST Fact\n",
    "resp = stub.Fact(numstore_pb2.FactRequest(key=\"A\"))\n",
    "print(resp.value) # should be 120"
   ]
  },
  {
   "cell_type": "code",
   "execution_count": 13,
   "id": "0ca58e1f-3738-4565-ac55-99366e7a1c5c",
   "metadata": {
    "tags": []
   },
   "outputs": [
    {
     "name": "stdout",
     "output_type": "stream",
     "text": [
      "120\n"
     ]
    }
   ],
   "source": [
    "resp = stub.Fact(numstore_pb2.FactRequest(key=\"A\"))\n",
    "print(resp.value)"
   ]
  },
  {
   "cell_type": "code",
   "execution_count": null,
   "id": "f2323c4d-e34d-4c8f-b875-793f5394a624",
   "metadata": {},
   "outputs": [],
   "source": []
  }
 ],
 "metadata": {
  "kernelspec": {
   "display_name": "Python 3 (ipykernel)",
   "language": "python",
   "name": "python3"
  },
  "language_info": {
   "codemirror_mode": {
    "name": "ipython",
    "version": 3
   },
   "file_extension": ".py",
   "mimetype": "text/x-python",
   "name": "python",
   "nbconvert_exporter": "python",
   "pygments_lexer": "ipython3",
   "version": "3.10.6"
  }
 },
 "nbformat": 4,
 "nbformat_minor": 5
}
