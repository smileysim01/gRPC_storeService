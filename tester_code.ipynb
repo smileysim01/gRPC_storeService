{
 "cells": [
  {
   "cell_type": "code",
   "execution_count": 118,
   "id": "709c0caa-ed0d-4ef0-b50d-1a75366eb8da",
   "metadata": {
    "tags": []
   },
   "outputs": [
    {
     "name": "stdout",
     "output_type": "stream",
     "text": [
      "1\n",
      "11\n",
      "15\n",
      "5\n",
      "120\n"
     ]
    }
   ],
   "source": [
    "#rgundavarapu@wisc.edu\n",
    "#simran4@wisc.edu\n",
    "import sys\n",
    "import grpc\n",
    "import numstore_pb2, numstore_pb2_grpc\n",
    "\n",
    "port = \"5440\"\n",
    "addr = f\"127.0.0.1:{port}\"\n",
    "channel = grpc.insecure_channel(addr)\n",
    "stub = numstore_pb2_grpc.NumStoreStub(channel)\n",
    "\n",
    "# TEST SetNum\n",
    "resp = stub.SetNum(numstore_pb2.SetNumRequest(key=\"A\", value=1))\n",
    "print(resp.total) # should be 1\n",
    "resp = stub.SetNum(numstore_pb2.SetNumRequest(key=\"B\", value=10))\n",
    "print(resp.total) # should be 11\n",
    "resp = stub.SetNum(numstore_pb2.SetNumRequest(key=\"A\", value=5))\n",
    "print(resp.total) # should be 15\n",
    "resp = stub.SetNum(numstore_pb2.SetNumRequest(key=\"B\", value=0))\n",
    "print(resp.total) # should be 5\n",
    "\n",
    "# TEST Fact\n",
    "resp = stub.Fact(numstore_pb2.FactRequest(key=\"A\"))\n",
    "print(resp.value) # should be 120"
   ]
  },
  {
   "cell_type": "code",
   "execution_count": 119,
   "id": "546bab7c-c355-453f-9c72-d2e20909b55f",
   "metadata": {
    "tags": []
   },
   "outputs": [
    {
     "name": "stdout",
     "output_type": "stream",
     "text": [
      "['DESCRIPTOR', 'FactRequest', 'FactResponse', 'SetNumRequest', 'SetNumResponse', '_FACTREQUEST', '_FACTRESPONSE', '_NUMSTORE', '_SETNUMREQUEST', '_SETNUMRESPONSE', '__builtins__', '__cached__', '__doc__', '__file__', '__loader__', '__name__', '__package__', '__spec__', '_builder', '_descriptor', '_descriptor_pool', '_sym_db', '_symbol_database']\n"
     ]
    }
   ],
   "source": [
    " print(dir(numstore_pb2))"
   ]
  },
  {
   "cell_type": "code",
   "execution_count": 120,
   "id": "14160235-c83d-4103-9b46-9f638acd4de4",
   "metadata": {},
   "outputs": [
    {
     "name": "stdout",
     "output_type": "stream",
     "text": [
      "120\n"
     ]
    }
   ],
   "source": [
    "# TEST Fact\n",
    "resp = stub.Fact(numstore_pb2.FactRequest(key=\"A\"))\n",
    "print(resp.value) # should be 120"
   ]
  },
  {
   "cell_type": "code",
   "execution_count": 121,
   "id": "8bfaf71a-4aa3-454f-9ef0-a2b79bfa9925",
   "metadata": {
    "tags": []
   },
   "outputs": [
    {
     "name": "stdout",
     "output_type": "stream",
     "text": [
      "1\n"
     ]
    }
   ],
   "source": [
    "resp = stub.Fact(numstore_pb2.FactRequest(key=\"B\"))\n",
    "print(resp.value)"
   ]
  },
  {
   "cell_type": "code",
   "execution_count": 122,
   "id": "abe409aa-e23f-4c9f-b415-173ec2949961",
   "metadata": {
    "tags": []
   },
   "outputs": [
    {
     "data": {
      "text/plain": [
       "'key does not exist,please add it using setnum'"
      ]
     },
     "execution_count": 122,
     "metadata": {},
     "output_type": "execute_result"
    }
   ],
   "source": [
    "resp = stub.Fact(numstore_pb2.FactRequest(key=\"D\"))\n",
    "resp.error"
   ]
  },
  {
   "cell_type": "code",
   "execution_count": 123,
   "id": "610afdda-c6b3-4668-9a13-5ce7fcb5deae",
   "metadata": {
    "tags": []
   },
   "outputs": [
    {
     "name": "stdout",
     "output_type": "stream",
     "text": [
      "0\n"
     ]
    }
   ],
   "source": [
    "resp = stub.Fact(numstore_pb2.FactRequest(key=\"C\"))\n",
    "print(resp.value)"
   ]
  },
  {
   "cell_type": "code",
   "execution_count": 124,
   "id": "d35ec396-89a8-46b7-811b-29d4b4d731bc",
   "metadata": {
    "tags": []
   },
   "outputs": [
    {
     "name": "stdout",
     "output_type": "stream",
     "text": [
      "120\n"
     ]
    }
   ],
   "source": [
    "resp = stub.Fact(numstore_pb2.FactRequest(key=\"A\"))\n",
    "print(resp.value)"
   ]
  },
  {
   "cell_type": "code",
   "execution_count": 125,
   "id": "9f23f6aa-4f40-4fdb-8253-82c1dcd2310a",
   "metadata": {
    "tags": []
   },
   "outputs": [
    {
     "data": {
      "text/plain": [
       "27"
      ]
     },
     "execution_count": 125,
     "metadata": {},
     "output_type": "execute_result"
    }
   ],
   "source": [
    "resp = stub.SetNum(numstore_pb2.SetNumRequest(key=\"F\", value=2))\n",
    "resp = stub.SetNum(numstore_pb2.SetNumRequest(key=\"I\", value=4))\n",
    "resp = stub.SetNum(numstore_pb2.SetNumRequest(key=\"K\", value=6))\n",
    "resp = stub.SetNum(numstore_pb2.SetNumRequest(key=\"M\", value=2))\n",
    "resp = stub.SetNum(numstore_pb2.SetNumRequest(key=\"E\", value=3))\n",
    "resp = stub.SetNum(numstore_pb2.SetNumRequest(key=\"Z\", value=2))\n",
    "resp = stub.SetNum(numstore_pb2.SetNumRequest(key=\"X\", value=3))\n",
    "resp.total"
   ]
  },
  {
   "cell_type": "code",
   "execution_count": 126,
   "id": "5812a3db-c6b4-40a2-8b5c-cda49c2f95e8",
   "metadata": {
    "tags": []
   },
   "outputs": [
    {
     "data": {
      "text/plain": [
       "2"
      ]
     },
     "execution_count": 126,
     "metadata": {},
     "output_type": "execute_result"
    }
   ],
   "source": [
    "resp = stub.Fact(numstore_pb2.FactRequest(key=\"F\"))\n",
    "resp.value"
   ]
  },
  {
   "cell_type": "code",
   "execution_count": 127,
   "id": "7aff7f1c-c58c-4f04-8825-208b395a2407",
   "metadata": {
    "tags": []
   },
   "outputs": [
    {
     "data": {
      "text/plain": [
       "24"
      ]
     },
     "execution_count": 127,
     "metadata": {},
     "output_type": "execute_result"
    }
   ],
   "source": [
    "resp = stub.Fact(numstore_pb2.FactRequest(key=\"I\"))\n",
    "resp.value"
   ]
  },
  {
   "cell_type": "code",
   "execution_count": 128,
   "id": "8d1e98f6-b8d8-4d1a-b7b8-b3d9a1c6d18e",
   "metadata": {
    "tags": []
   },
   "outputs": [
    {
     "data": {
      "text/plain": [
       "6"
      ]
     },
     "execution_count": 128,
     "metadata": {},
     "output_type": "execute_result"
    }
   ],
   "source": [
    "resp = stub.Fact(numstore_pb2.FactRequest(key=\"E\"))\n",
    "resp.value"
   ]
  },
  {
   "cell_type": "code",
   "execution_count": 129,
   "id": "3007c737-df9f-4ec1-9bdd-78c3f76db426",
   "metadata": {
    "tags": []
   },
   "outputs": [
    {
     "data": {
      "text/plain": [
       "24"
      ]
     },
     "execution_count": 129,
     "metadata": {},
     "output_type": "execute_result"
    }
   ],
   "source": [
    "resp = stub.Fact(numstore_pb2.FactRequest(key=\"I\"))\n",
    "resp.value"
   ]
  },
  {
   "cell_type": "code",
   "execution_count": 130,
   "id": "95f326c8-a3e8-4096-8b8c-936c72ba6e56",
   "metadata": {
    "tags": []
   },
   "outputs": [
    {
     "data": {
      "text/plain": [
       "2"
      ]
     },
     "execution_count": 130,
     "metadata": {},
     "output_type": "execute_result"
    }
   ],
   "source": [
    "resp = stub.Fact(numstore_pb2.FactRequest(key=\"M\"))\n",
    "resp.value"
   ]
  },
  {
   "cell_type": "code",
   "execution_count": 131,
   "id": "4457c464-4d46-4b1c-b82b-e78d2a8da6b1",
   "metadata": {
    "tags": []
   },
   "outputs": [
    {
     "data": {
      "text/plain": [
       "720"
      ]
     },
     "execution_count": 131,
     "metadata": {},
     "output_type": "execute_result"
    }
   ],
   "source": [
    "resp = stub.Fact(numstore_pb2.FactRequest(key=\"K\"))\n",
    "resp.value"
   ]
  },
  {
   "cell_type": "code",
   "execution_count": 132,
   "id": "0e2144ef-e02e-486c-9fe8-6bf844ebb406",
   "metadata": {
    "tags": []
   },
   "outputs": [
    {
     "data": {
      "text/plain": [
       "6"
      ]
     },
     "execution_count": 132,
     "metadata": {},
     "output_type": "execute_result"
    }
   ],
   "source": [
    "resp = stub.SetNum(numstore_pb2.SetNumRequest(key=\"C\", value=3))\n",
    "resp = stub.Fact(numstore_pb2.FactRequest(key=\"C\"))\n",
    "resp.value"
   ]
  },
  {
   "cell_type": "code",
   "execution_count": 133,
   "id": "fad8410e-bb40-4b3d-8578-472eaa2441e3",
   "metadata": {
    "tags": []
   },
   "outputs": [],
   "source": [
    "resp = stub.Fact(numstore_pb2.FactRequest(key=\"Z\"))\n",
    "resp = stub.Fact(numstore_pb2.FactRequest(key=\"X\"))"
   ]
  },
  {
   "cell_type": "code",
   "execution_count": 134,
   "id": "e85592ce-3e3b-496d-bb8c-b3313dd00d5a",
   "metadata": {
    "tags": []
   },
   "outputs": [
    {
     "data": {
      "text/plain": [
       "33"
      ]
     },
     "execution_count": 134,
     "metadata": {},
     "output_type": "execute_result"
    }
   ],
   "source": [
    "resp=stub.SetNum(numstore_pb2.SetNumRequest(key=\"o\", value=3))\n",
    "resp.total"
   ]
  },
  {
   "cell_type": "code",
   "execution_count": 135,
   "id": "5d024294-5b5b-47e9-acc2-6a090a4ad41e",
   "metadata": {
    "tags": []
   },
   "outputs": [
    {
     "data": {
      "text/plain": [
       "6"
      ]
     },
     "execution_count": 135,
     "metadata": {},
     "output_type": "execute_result"
    }
   ],
   "source": [
    "resp = stub.Fact(numstore_pb2.FactRequest(key=\"o\"))\n",
    "resp.value"
   ]
  },
  {
   "cell_type": "code",
   "execution_count": null,
   "id": "d926a90f-b0b3-4d6f-8ae2-cca4778593f3",
   "metadata": {},
   "outputs": [
    {
     "data": {
      "text/plain": [
       "15"
      ]
     },
     "execution_count": 142,
     "metadata": {},
     "output_type": "execute_result"
    }
   ],
   "source": [
    "import random\n",
    "random.randint(1,15)"
   ]
  }
 ],
 "metadata": {
  "kernelspec": {
   "display_name": "Python 3 (ipykernel)",
   "language": "python",
   "name": "python3"
  },
  "language_info": {
   "codemirror_mode": {
    "name": "ipython",
    "version": 3
   },
   "file_extension": ".py",
   "mimetype": "text/x-python",
   "name": "python",
   "nbconvert_exporter": "python",
   "pygments_lexer": "ipython3",
   "version": "3.8.10"
  }
 },
 "nbformat": 4,
 "nbformat_minor": 5
}
